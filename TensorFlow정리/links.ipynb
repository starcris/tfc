{
 "cells": [
  {
   "cell_type": "markdown",
   "id": "d2347390",
   "metadata": {},
   "source": [
    "참고 링크들"
   ]
  },
  {
   "cell_type": "markdown",
   "id": "410068a3",
   "metadata": {},
   "source": [
    "Tensorflow2 \n",
    "\n",
    "Graph https://blog.naver.com/salinokl/222848815514\n",
    "기초및 함수정리 https://hororolol.tistory.com/168\n"
   ]
  }
 ],
 "metadata": {
  "kernelspec": {
   "display_name": "Python 3 (ipykernel)",
   "language": "python",
   "name": "python3"
  },
  "language_info": {
   "codemirror_mode": {
    "name": "ipython",
    "version": 3
   },
   "file_extension": ".py",
   "mimetype": "text/x-python",
   "name": "python",
   "nbconvert_exporter": "python",
   "pygments_lexer": "ipython3",
   "version": "3.8.16"
  }
 },
 "nbformat": 4,
 "nbformat_minor": 5
}
