{
 "cells": [
  {
   "cell_type": "markdown",
   "metadata": {},
   "source": [
    "# Linear Regression Example\n",
    "\n",
    "Linear regression implementation with TensorFlow v2 library.\n",
    "\n",
    "This example is using a low-level approach to better understand all mechanics behind the training process.\n",
    "\n",
    "- Author: Aymeric Damien\n",
    "- Project: https://github.com/aymericdamien/TensorFlow-Examples/"
   ]
  },
  {
   "cell_type": "code",
   "execution_count": 1,
   "metadata": {},
   "outputs": [],
   "source": [
    "from __future__ import absolute_import, division, print_function"
   ]
  },
  {
   "cell_type": "code",
   "execution_count": 2,
   "metadata": {},
   "outputs": [],
   "source": [
    "import tensorflow as tf\n",
    "import numpy as np\n",
    "rng = np.random"
   ]
  },
  {
   "cell_type": "code",
   "execution_count": 3,
   "metadata": {},
   "outputs": [],
   "source": [
    "# Parameters.\n",
    "learning_rate = 0.01\n",
    "training_steps = 1000\n",
    "display_step = 50"
   ]
  },
  {
   "cell_type": "code",
   "execution_count": 4,
   "metadata": {},
   "outputs": [],
   "source": [
    "# Training Data.\n",
    "X = np.array([3.3,4.4,5.5,6.71,6.93,4.168,9.779,6.182,7.59,2.167,\n",
    "              7.042,10.791,5.313,7.997,5.654,9.27,3.1])\n",
    "Y = np.array([1.7,2.76,2.09,3.19,1.694,1.573,3.366,2.596,2.53,1.221,\n",
    "              2.827,3.465,1.65,2.904,2.42,2.94,1.3])\n"
   ]
  },
  {
   "cell_type": "code",
   "execution_count": 22,
   "metadata": {},
   "outputs": [
    {
     "name": "stdout",
     "output_type": "stream",
     "text": [
      "x = 3.3, y = 1.7\n"
     ]
    }
   ],
   "source": [
    "print('x = {}, y = {}'.format(X[0], Y[0]))"
   ]
  },
  {
   "cell_type": "code",
   "execution_count": 33,
   "metadata": {},
   "outputs": [],
   "source": [
    "# Weight and Bias, initialized randomly.\n",
    "W = tf.Variable(rng.randn(), name=\"weight\")\n",
    "b = tf.Variable(rng.randn(), name=\"bias\")\n",
    "\n",
    "# Linear regression (Wx + b).\n",
    "def linear_regression(x):\n",
    "#    print('linear_regression x={}, y_val = {}'.format(x, W * x + b) )\n",
    "    return W * x + b\n",
    "\n",
    "# Mean square error.\n",
    "def mean_square(y_pred, y_true):\n",
    "#    print('mean_square value yp {} yt {} sq {}'.format(y_pred, y_true, tf.square(y_pred - y_true)))\n",
    "    return tf.reduce_mean(tf.square(y_pred - y_true))\n",
    "\n",
    "# Stochastic Gradient Descent Optimizer.\n",
    "optimizer = tf.optimizers.SGD(learning_rate)"
   ]
  },
  {
   "cell_type": "code",
   "execution_count": 18,
   "metadata": {},
   "outputs": [
    {
     "name": "stdout",
     "output_type": "stream",
     "text": [
      "-0.04951025913014008\n"
     ]
    }
   ],
   "source": [
    "print(rng.randn())"
   ]
  },
  {
   "cell_type": "code",
   "execution_count": 47,
   "metadata": {},
   "outputs": [],
   "source": [
    "# Optimization process. \n",
    "def run_optimization():\n",
    "    # Wrap computation inside a GradientTape for automatic differentiation.\n",
    "    with tf.GradientTape() as g:\n",
    "        pred = linear_regression(X)\n",
    "        loss = mean_square(pred, Y)\n",
    "\n",
    "    print(X)\n",
    "    print(pred)\n",
    "    # Compute gradients.\n",
    "    gradients = g.gradient(loss, [W, b])\n",
    "    \n",
    "    print(gradients)\n",
    "    # Update W and b following gradients.\n",
    "    optimizer.apply_gradients(zip(gradients, [W, b]))"
   ]
  },
  {
   "cell_type": "code",
   "execution_count": 34,
   "metadata": {
    "scrolled": true
   },
   "outputs": [
    {
     "name": "stdout",
     "output_type": "stream",
     "text": [
      " loss: 50.630074, W: -0.591563, b: -0.773784\n"
     ]
    }
   ],
   "source": [
    "pred = linear_regression(X)\n",
    "loss = mean_square(pred, Y)\n",
    "print(\" loss: %f, W: %f, b: %f\" % ( loss, W.numpy(), b.numpy()))"
   ]
  },
  {
   "cell_type": "code",
   "execution_count": 48,
   "metadata": {},
   "outputs": [
    {
     "name": "stdout",
     "output_type": "stream",
     "text": [
      "[ 3.3    4.4    5.5    6.71   6.93   4.168  9.779  6.182  7.59   2.167\n",
      "  7.042 10.791  5.313  7.997  5.654  9.27   3.1  ]\n",
      "tf.Tensor(\n",
      "[1.6286802 1.9056284 2.182577  2.48722   2.5426097 1.8472176 3.2599058\n",
      " 2.3542848 2.7087786 1.3434234 2.570808  3.5146983 2.1354957 2.8112495\n",
      " 2.2213495 3.1317544 1.578326 ], shape=(17,), dtype=float32)\n",
      "[<tf.Tensor: shape=(), dtype=float32, numpy=3.3333898e-05>, <tf.Tensor: shape=(), dtype=float32, numpy=-0.0002344884>]\n"
     ]
    }
   ],
   "source": [
    "run_optimization()"
   ]
  },
  {
   "cell_type": "code",
   "execution_count": 43,
   "metadata": {},
   "outputs": [
    {
     "name": "stdout",
     "output_type": "stream",
     "text": [
      "step: 50, loss: 0.153869, W: 0.253010, b: 0.789054\n",
      "step: 100, loss: 0.153867, W: 0.252852, b: 0.790169\n",
      "step: 150, loss: 0.153865, W: 0.252713, b: 0.791157\n",
      "step: 200, loss: 0.153863, W: 0.252590, b: 0.792032\n",
      "step: 250, loss: 0.153862, W: 0.252480, b: 0.792807\n",
      "step: 300, loss: 0.153861, W: 0.252384, b: 0.793493\n",
      "step: 350, loss: 0.153860, W: 0.252298, b: 0.794100\n",
      "step: 400, loss: 0.153860, W: 0.252222, b: 0.794638\n",
      "step: 450, loss: 0.153859, W: 0.252155, b: 0.795115\n",
      "step: 500, loss: 0.153859, W: 0.252095, b: 0.795537\n",
      "step: 550, loss: 0.153859, W: 0.252043, b: 0.795910\n",
      "step: 600, loss: 0.153858, W: 0.251996, b: 0.796241\n",
      "step: 650, loss: 0.153858, W: 0.251955, b: 0.796534\n",
      "step: 700, loss: 0.153858, W: 0.251918, b: 0.796793\n",
      "step: 750, loss: 0.153858, W: 0.251886, b: 0.797023\n",
      "step: 800, loss: 0.153858, W: 0.251857, b: 0.797227\n",
      "step: 850, loss: 0.153858, W: 0.251832, b: 0.797407\n",
      "step: 900, loss: 0.153858, W: 0.251809, b: 0.797566\n",
      "step: 950, loss: 0.153858, W: 0.251789, b: 0.797708\n",
      "step: 1000, loss: 0.153858, W: 0.251772, b: 0.797833\n"
     ]
    }
   ],
   "source": [
    "# Run training for the given number of steps.\n",
    "for step in range(1, training_steps + 1):\n",
    "    # Run the optimization to update W and b values.\n",
    "    run_optimization()\n",
    "    \n",
    "    if step % display_step == 0:\n",
    "        pred = linear_regression(X)\n",
    "        loss = mean_square(pred, Y)\n",
    "        print(\"step: %i, loss: %f, W: %f, b: %f\" % (step, loss, W.numpy(), b.numpy()))"
   ]
  },
  {
   "cell_type": "code",
   "execution_count": 40,
   "metadata": {
    "scrolled": true
   },
   "outputs": [],
   "source": [
    "import matplotlib.pyplot as plt"
   ]
  },
  {
   "cell_type": "code",
   "execution_count": 39,
   "metadata": {},
   "outputs": [],
   "source": [
    "#!pip install matplotlib"
   ]
  },
  {
   "cell_type": "code",
   "execution_count": 44,
   "metadata": {},
   "outputs": [
    {
     "data": {
      "image/png": "[encoded data removed]",
      "text/plain": [
       "<Figure size 640x480 with 1 Axes>"
      ]
     },
     "metadata": {},
     "output_type": "display_data"
    }
   ],
   "source": [
    "# Graphic display\n",
    "plt.plot(X, Y, 'ro', label='Original data')\n",
    "plt.plot(X, np.array(W * X + b), label='Fitted line')\n",
    "plt.legend()\n",
    "plt.show()"
   ]
  }
 ],
 "metadata": {
  "kernelspec": {
   "display_name": "Python 3 (ipykernel)",
   "language": "python",
   "name": "python3"
  },
  "language_info": {
   "codemirror_mode": {
    "name": "ipython",
    "version": 3
   },
   "file_extension": ".py",
   "mimetype": "text/x-python",
   "name": "python",
   "nbconvert_exporter": "python",
   "pygments_lexer": "ipython3",
   "version": "3.8.16"
  }
 },
 "nbformat": 4,
 "nbformat_minor": 2
}
